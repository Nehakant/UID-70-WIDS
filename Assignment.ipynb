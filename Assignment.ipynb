{
 "cells": [
  {
   "cell_type": "code",
   "execution_count": null,
   "id": "42eb6224-122b-4f30-ba5d-b2ffb91b098c",
   "metadata": {},
   "outputs": [],
   "source": [
    "from ultralytics import YOLO\n",
    "from PIL import Image, ImageDraw, ImageFont\n",
    "#import time\n",
    "\n",
    "im = Image.open(\"/Users/chandrakant/Desktop/5235201692_04a3a0a1e4_b.jpg\")#giving the path of the image for object detection\n",
    "newSize = (640, 640)\n",
    "im = im.resize(newSize)#resizing the image \n",
    "\n",
    "model = YOLO(\"yolo11n.pt\")#loading YOLO model\n",
    "\n",
    "result = model(im)\n",
    "\n",
    "# Convert to PIL Image for drawing\n",
    "output_image = im.copy()\n",
    "draw = ImageDraw.Draw(output_image)\n",
    "\n",
    "\n",
    "font = ImageFont.load_default(size=20) #giving the size of font\n",
    "\n",
    "unique_id = 0# creating a variable to increase the value by 1 if the object is detected \n",
    "cars_id=[]#creating an empty list to store unique ids and its coordinates\n",
    "for box in result[0].boxes:\n",
    "    class_id = int(box.cls)  # Get the class ID\n",
    "    label = result[0].names[class_id]  # Map class ID to class name\n",
    "    \n",
    "    if label == \"car\": #here we are checking if the detected class is a car class if it is true then store \n",
    "        unique_id += 1#and increase the value of unique_id by 1\n",
    "        bbox=box.xyxy.tolist()# storing the coordinates of the box created by the YOLO model\n",
    "        x1=bbox[0][0]#storing the top left corner\n",
    "        y1=bbox[0][1]\n",
    "        draw.text((x1+25, y1-10), f\"Car {unique_id}\", fill=(0, 255, 0), font=font)  # Draw text\n",
    "        cars_id.append({\"id\": unique_id, \"bbox\": bbox})\n",
    "\n",
    "# Save or show the annotated image\n",
    "output_image.show()\n",
    "\n",
    "# Print the bounding box details\n",
    "print(\"Detected cars:\")\n",
    "for car in cars_id:\n",
    "    print(f\"Car ID: {car['id']}, Bounding Box: {car['bbox']}\")\n"
   ]
  }
 ],
 "metadata": {
  "kernelspec": {
   "display_name": "Python 3 (ipykernel)",
   "language": "python",
   "name": "python3"
  },
  "language_info": {
   "codemirror_mode": {
    "name": "ipython",
    "version": 3
   },
   "file_extension": ".py",
   "mimetype": "text/x-python",
   "name": "python",
   "nbconvert_exporter": "python",
   "pygments_lexer": "ipython3",
   "version": "3.12.3"
  }
 },
 "nbformat": 4,
 "nbformat_minor": 5
}
